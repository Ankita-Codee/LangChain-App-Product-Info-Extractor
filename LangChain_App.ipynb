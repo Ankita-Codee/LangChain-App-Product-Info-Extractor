{
 "cells": [
  {
   "cell_type": "markdown",
   "id": "65e96b54",
   "metadata": {},
   "source": [
    "# 🧠 Product Info Extractor using LangChain + LLM\n",
    "\n",
    "### 🎯 Objective: Build a simple assistant using any LLM (e.g., OpenAI, Groq) that extracts structured product information using a Pydantic schema.\n",
    "\n",
    "### ❓ Task Description: When asked about a product, your assistant should return a structured response with the following fields:\n",
    "\n",
    "- **🧾 Product Name**: A one-word name of the product (from a textile company or any relevant domain)\n",
    "- **📝 Product Details**: A short, single-line description of the product\n",
    "- **💰 Tentative Price**: Estimated price in **USD** (as an integer)"
   ]
  },
  {
   "cell_type": "code",
   "execution_count": 1,
   "id": "68b24897",
   "metadata": {},
   "outputs": [
    {
     "name": "stdout",
     "output_type": "stream",
     "text": [
      "{'name': 'Burtons', 'details': 'Waterproof snowsuit for extreme weather', 'price': 250}\n"
     ]
    }
   ],
   "source": [
    "# ✅ Load environment variables from .env file\n",
    "import os\n",
    "from dotenv import load_dotenv\n",
    "load_dotenv()\n",
    "os.environ[\"GROQ_API_KEY\"] = os.getenv(\"GROQ_API_KEY\")  # Set GROQ API Key\n",
    "\n",
    "# ✅ Initialize Groq LLM (LLaMA3 model)\n",
    "from langchain_groq import ChatGroq\n",
    "model = ChatGroq(model=\"llama3-70b-8192\")\n",
    "\n",
    "# ✅ Define the output schema using Pydantic\n",
    "from langchain_core.output_parsers import JsonOutputParser\n",
    "from pydantic import BaseModel, Field\n",
    "\n",
    "class Product(BaseModel):\n",
    "    name : str = Field(description=\"This is the name of the product from textile company which should be one word\")\n",
    "    details: str = Field(description=\"Give the details of the product in 1 line\")\n",
    "    price: int = Field(description=\"price should be in USD\")\n",
    "\n",
    "# ✅ Set up output parser\n",
    "parser = JsonOutputParser(pydantic_object=Product)\n",
    "\n",
    "# ✅ Create prompt with instructions and format\n",
    "from langchain_core.prompts import PromptTemplate\n",
    "prompt = PromptTemplate(\n",
    "    template=(\n",
    "        \"You are an expert assistant that always replies with only valid JSON, nothing else.\\n\"\n",
    "        \"{format_instructions}\\n\"\n",
    "        \"Query: {query}\"\n",
    "    ),\n",
    "    input_variables=[\"query\"],\n",
    "    partial_variables={\"format_instructions\": parser.get_format_instructions()},\n",
    ")\n",
    "\n",
    "# ✅ Build the chain: Prompt → LLM → Parser\n",
    "chain = prompt | model | parser\n",
    "\n",
    "# ✅ Invoke the chain with a query\n",
    "response = chain.invoke({\"query\": \"Tell me about the Burton's snowsuit\"})\n",
    "\n",
    "# ✅ Print the structured result\n",
    "print(response)\n"
   ]
  },
  {
   "cell_type": "code",
   "execution_count": null,
   "id": "357b13ad",
   "metadata": {},
   "outputs": [],
   "source": []
  }
 ],
 "metadata": {
  "kernelspec": {
   "display_name": "agentic_2_base",
   "language": "python",
   "name": "python3"
  },
  "language_info": {
   "codemirror_mode": {
    "name": "ipython",
    "version": 3
   },
   "file_extension": ".py",
   "mimetype": "text/x-python",
   "name": "python",
   "nbconvert_exporter": "python",
   "pygments_lexer": "ipython3",
   "version": "3.11.13"
  }
 },
 "nbformat": 4,
 "nbformat_minor": 5
}
